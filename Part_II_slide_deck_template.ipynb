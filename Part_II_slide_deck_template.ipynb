{
 "cells": [
  {
   "cell_type": "markdown",
   "metadata": {
    "slideshow": {
     "slide_type": "slide"
    }
   },
   "source": [
    "# Part II - Ford Go Bike System\n",
    "## by Wilkins Nduva"
   ]
  },
  {
   "cell_type": "markdown",
   "metadata": {
    "slideshow": {
     "slide_type": "slide"
    }
   },
   "source": [
    "## Investigation Overview\n",
    "\n",
    "> Customer user type trips take a longer duration compared to subscriber user type.\n",
    "\n",
    "> We have more male member bike users compared to the female\n",
    "\n",
    "> 91% of the users were subscribers\n",
    "\n",
    "> 90% bike users didn't use the bike for their entire trip\n",
    "\n",
    "## Dataset Overview\n",
    "\n",
    "> The dataset comes from over 183,000 trips in a bike-sharing system that serves the larger San Francisco Bay region. The data characteristics include duration (seconds), as well as DateTime, client type, gender, and a few more factors."
   ]
  },
  {
   "cell_type": "code",
   "execution_count": 1,
   "metadata": {
    "slideshow": {
     "slide_type": "skip"
    }
   },
   "outputs": [],
   "source": [
    "# import all packages and set plots to be embedded inline\n",
    "import numpy as np\n",
    "import pandas as pd\n",
    "import matplotlib.pyplot as plt\n",
    "import seaborn as sb\n",
    "\n",
    "%matplotlib inline\n",
    "\n",
    "# suppress warnings from final output\n",
    "import warnings\n",
    "warnings.simplefilter(\"ignore\")"
   ]
  },
  {
   "cell_type": "code",
   "execution_count": 2,
   "metadata": {
    "slideshow": {
     "slide_type": "skip"
    }
   },
   "outputs": [
    {
     "data": {
      "text/html": [
       "<div>\n",
       "<style scoped>\n",
       "    .dataframe tbody tr th:only-of-type {\n",
       "        vertical-align: middle;\n",
       "    }\n",
       "\n",
       "    .dataframe tbody tr th {\n",
       "        vertical-align: top;\n",
       "    }\n",
       "\n",
       "    .dataframe thead th {\n",
       "        text-align: right;\n",
       "    }\n",
       "</style>\n",
       "<table border=\"1\" class=\"dataframe\">\n",
       "  <thead>\n",
       "    <tr style=\"text-align: right;\">\n",
       "      <th></th>\n",
       "      <th>duration_sec</th>\n",
       "      <th>start_time</th>\n",
       "      <th>end_time</th>\n",
       "      <th>start_station_id</th>\n",
       "      <th>start_station_name</th>\n",
       "      <th>start_station_latitude</th>\n",
       "      <th>start_station_longitude</th>\n",
       "      <th>end_station_id</th>\n",
       "      <th>end_station_name</th>\n",
       "      <th>end_station_latitude</th>\n",
       "      <th>end_station_longitude</th>\n",
       "      <th>bike_id</th>\n",
       "      <th>user_type</th>\n",
       "      <th>member_birth_year</th>\n",
       "      <th>member_gender</th>\n",
       "      <th>bike_share_for_all_trip</th>\n",
       "    </tr>\n",
       "  </thead>\n",
       "  <tbody>\n",
       "    <tr>\n",
       "      <th>122912</th>\n",
       "      <td>646</td>\n",
       "      <td>2019-02-11 10:10:12.2980</td>\n",
       "      <td>2019-02-11 10:20:59.0930</td>\n",
       "      <td>317.0</td>\n",
       "      <td>San Salvador St at 9th St</td>\n",
       "      <td>37.333955</td>\n",
       "      <td>-121.877349</td>\n",
       "      <td>296.0</td>\n",
       "      <td>5th St at Virginia St</td>\n",
       "      <td>37.325998</td>\n",
       "      <td>-121.877120</td>\n",
       "      <td>3842</td>\n",
       "      <td>Subscriber</td>\n",
       "      <td>1996.0</td>\n",
       "      <td>Female</td>\n",
       "      <td>Yes</td>\n",
       "    </tr>\n",
       "    <tr>\n",
       "      <th>165094</th>\n",
       "      <td>474</td>\n",
       "      <td>2019-02-05 07:45:20.8660</td>\n",
       "      <td>2019-02-05 07:53:15.3720</td>\n",
       "      <td>269.0</td>\n",
       "      <td>Telegraph Ave at Carleton St</td>\n",
       "      <td>37.862320</td>\n",
       "      <td>-122.258801</td>\n",
       "      <td>245.0</td>\n",
       "      <td>Downtown Berkeley BART</td>\n",
       "      <td>37.870139</td>\n",
       "      <td>-122.268422</td>\n",
       "      <td>2673</td>\n",
       "      <td>Subscriber</td>\n",
       "      <td>1996.0</td>\n",
       "      <td>Male</td>\n",
       "      <td>No</td>\n",
       "    </tr>\n",
       "  </tbody>\n",
       "</table>\n",
       "</div>"
      ],
      "text/plain": [
       "        duration_sec                start_time                  end_time  \\\n",
       "122912           646  2019-02-11 10:10:12.2980  2019-02-11 10:20:59.0930   \n",
       "165094           474  2019-02-05 07:45:20.8660  2019-02-05 07:53:15.3720   \n",
       "\n",
       "        start_station_id            start_station_name  \\\n",
       "122912             317.0     San Salvador St at 9th St   \n",
       "165094             269.0  Telegraph Ave at Carleton St   \n",
       "\n",
       "        start_station_latitude  start_station_longitude  end_station_id  \\\n",
       "122912               37.333955              -121.877349           296.0   \n",
       "165094               37.862320              -122.258801           245.0   \n",
       "\n",
       "              end_station_name  end_station_latitude  end_station_longitude  \\\n",
       "122912   5th St at Virginia St             37.325998            -121.877120   \n",
       "165094  Downtown Berkeley BART             37.870139            -122.268422   \n",
       "\n",
       "        bike_id   user_type  member_birth_year member_gender  \\\n",
       "122912     3842  Subscriber             1996.0        Female   \n",
       "165094     2673  Subscriber             1996.0          Male   \n",
       "\n",
       "       bike_share_for_all_trip  \n",
       "122912                     Yes  \n",
       "165094                      No  "
      ]
     },
     "execution_count": 2,
     "metadata": {},
     "output_type": "execute_result"
    }
   ],
   "source": [
    "# load in the dataset into a pandas dataframe\n",
    "bike = pd.read_csv('Fordgobike.csv')\n",
    "bike.sample(2)"
   ]
  },
  {
   "cell_type": "markdown",
   "metadata": {
    "slideshow": {
     "slide_type": "skip"
    }
   },
   "source": [
    "> Note that the above cells have been set as \"Skip\"-type slides. That means\n",
    "that when the notebook is rendered as http slides, those cells won't show up."
   ]
  },
  {
   "cell_type": "code",
   "execution_count": 3,
   "metadata": {
    "slideshow": {
     "slide_type": "skip"
    }
   },
   "outputs": [
    {
     "name": "stdout",
     "output_type": "stream",
     "text": [
      "<class 'pandas.core.series.Series'>\n",
      "Int64Index: 174952 entries, 0 to 183411\n",
      "Series name: member_birth_year\n",
      "Non-Null Count   Dtype\n",
      "--------------   -----\n",
      "174952 non-null  int64\n",
      "dtypes: int64(1)\n",
      "memory usage: 2.7 MB\n"
     ]
    }
   ],
   "source": [
    "#data cleaning and wrangling\n",
    "bike = bike.dropna()\n",
    "\n",
    "#change start_time and end_time data type to date\n",
    "bike.start_time = pd.to_datetime(bike.start_time)\n",
    "bike.end_time = pd.to_datetime(bike.end_time)\n",
    "\n",
    "#change member birth year to int data type\n",
    "bike.member_birth_year = bike.member_birth_year.astype('int64')\n",
    "bike.member_birth_year.info()\n",
    "\n",
    "# calculate members age, I have used 2020 since it was the year the data was collected\n",
    "bike['Age'] = 2020 - bike['member_birth_year']\n",
    "\n",
    "#drop values where age is greater than 80 years\n",
    "bike = bike.query(\"Age <= 80\")\n",
    "\n",
    "# Column on only the start_time month \n",
    "bike['start_time_month'] = bike['start_time'].dt.strftime('%B')\n",
    "\n",
    "# Column on only the start_time day of the week  \n",
    "bike['start_time_day'] = bike['start_time'].dt.strftime('%A')\n",
    "\n",
    "# Start time hour\n",
    "bike['start_time_hour'] = bike['start_time'].dt.hour\n",
    "bike['start_time_hour'] = bike.start_time_hour.astype(str)\n",
    "\n",
    "# Duration in seconds to duration in minutes\n",
    "bike['duration_min'] = bike['duration_sec']/60\n",
    "\n",
    "#round of the duration in minutes\n",
    "bike['duration_min'] = bike.duration_min.apply(np.ceil)"
   ]
  },
  {
   "cell_type": "code",
   "execution_count": 4,
   "metadata": {
    "slideshow": {
     "slide_type": "skip"
    }
   },
   "outputs": [
    {
     "data": {
      "text/html": [
       "<div>\n",
       "<style scoped>\n",
       "    .dataframe tbody tr th:only-of-type {\n",
       "        vertical-align: middle;\n",
       "    }\n",
       "\n",
       "    .dataframe tbody tr th {\n",
       "        vertical-align: top;\n",
       "    }\n",
       "\n",
       "    .dataframe thead th {\n",
       "        text-align: right;\n",
       "    }\n",
       "</style>\n",
       "<table border=\"1\" class=\"dataframe\">\n",
       "  <thead>\n",
       "    <tr style=\"text-align: right;\">\n",
       "      <th></th>\n",
       "      <th>duration_sec</th>\n",
       "      <th>start_time</th>\n",
       "      <th>end_time</th>\n",
       "      <th>start_station_id</th>\n",
       "      <th>start_station_name</th>\n",
       "      <th>start_station_latitude</th>\n",
       "      <th>start_station_longitude</th>\n",
       "      <th>end_station_id</th>\n",
       "      <th>end_station_name</th>\n",
       "      <th>end_station_latitude</th>\n",
       "      <th>...</th>\n",
       "      <th>bike_id</th>\n",
       "      <th>user_type</th>\n",
       "      <th>member_birth_year</th>\n",
       "      <th>member_gender</th>\n",
       "      <th>bike_share_for_all_trip</th>\n",
       "      <th>Age</th>\n",
       "      <th>start_time_month</th>\n",
       "      <th>start_time_day</th>\n",
       "      <th>start_time_hour</th>\n",
       "      <th>duration_min</th>\n",
       "    </tr>\n",
       "  </thead>\n",
       "  <tbody>\n",
       "    <tr>\n",
       "      <th>180585</th>\n",
       "      <td>475</td>\n",
       "      <td>2019-02-01 10:38:04.475</td>\n",
       "      <td>2019-02-01 10:45:59.673</td>\n",
       "      <td>206.0</td>\n",
       "      <td>College Ave at Bryant Ave</td>\n",
       "      <td>37.838127</td>\n",
       "      <td>-122.251271</td>\n",
       "      <td>212.0</td>\n",
       "      <td>Mosswood Park</td>\n",
       "      <td>37.824893</td>\n",
       "      <td>...</td>\n",
       "      <td>4918</td>\n",
       "      <td>Subscriber</td>\n",
       "      <td>1984</td>\n",
       "      <td>Male</td>\n",
       "      <td>No</td>\n",
       "      <td>36</td>\n",
       "      <td>February</td>\n",
       "      <td>Friday</td>\n",
       "      <td>10</td>\n",
       "      <td>8.0</td>\n",
       "    </tr>\n",
       "  </tbody>\n",
       "</table>\n",
       "<p>1 rows × 21 columns</p>\n",
       "</div>"
      ],
      "text/plain": [
       "        duration_sec              start_time                end_time  \\\n",
       "180585           475 2019-02-01 10:38:04.475 2019-02-01 10:45:59.673   \n",
       "\n",
       "        start_station_id         start_station_name  start_station_latitude  \\\n",
       "180585             206.0  College Ave at Bryant Ave               37.838127   \n",
       "\n",
       "        start_station_longitude  end_station_id end_station_name  \\\n",
       "180585              -122.251271           212.0    Mosswood Park   \n",
       "\n",
       "        end_station_latitude  ...  bike_id   user_type member_birth_year  \\\n",
       "180585             37.824893  ...     4918  Subscriber              1984   \n",
       "\n",
       "        member_gender bike_share_for_all_trip Age  start_time_month  \\\n",
       "180585           Male                      No  36          February   \n",
       "\n",
       "       start_time_day start_time_hour duration_min  \n",
       "180585         Friday              10          8.0  \n",
       "\n",
       "[1 rows x 21 columns]"
      ]
     },
     "execution_count": 4,
     "metadata": {},
     "output_type": "execute_result"
    }
   ],
   "source": [
    "bike.sample()"
   ]
  },
  {
   "cell_type": "code",
   "execution_count": 5,
   "metadata": {},
   "outputs": [],
   "source": [
    "#function to plot a bar chat\n",
    "def plot_bar(bike, xlabel, ylabel, title):\n",
    "    bike.plot(kind ='bar', color = 'crimson', figsize=(8,8))\n",
    "    plt.xlabel(xlabel, color = 'darkblue', fontsize = 10)\n",
    "    plt.ylabel(ylabel, color = 'red', fontsize = 10)\n",
    "    plt.title(title, fontweight = 'bold')\n",
    "    plt.show()"
   ]
  },
  {
   "cell_type": "markdown",
   "metadata": {
    "slideshow": {
     "slide_type": "slide"
    }
   },
   "source": [
    "## 1. Day of the week with most bike trips\n",
    "\n",
    "> The busiest day where the majority of the bikes are used is Thursday with 33689 member bike users.\n"
   ]
  },
  {
   "cell_type": "code",
   "execution_count": 6,
   "metadata": {
    "slideshow": {
     "slide_type": "subslide"
    }
   },
   "outputs": [
    {
     "data": {
      "image/png": "[encoded data removed]",
      "text/plain": [
       "<Figure size 576x576 with 1 Axes>"
      ]
     },
     "metadata": {
      "needs_background": "light"
     },
     "output_type": "display_data"
    }
   ],
   "source": [
    "#Busiest day of the week by start_time\n",
    "bike_day = bike['start_time_day'].value_counts().reindex(['Monday','Tuesday','Wednesday','Thursday','Friday','Saturday','Sunday'])\n",
    "plot_bar(bike_day, 'Days','Total bikes','Bike usage by Day');"
   ]
  },
  {
   "cell_type": "markdown",
   "metadata": {
    "collapsed": true,
    "slideshow": {
     "slide_type": "slide"
    }
   },
   "source": [
    "## 2. Bike usage by time of the day\n",
    "\n",
    "> Here we can clearly see that most trips are made at 0800hrs and in the evening at 1700hrs"
   ]
  },
  {
   "cell_type": "code",
   "execution_count": 7,
   "metadata": {},
   "outputs": [],
   "source": [
    "# ordinal numerical arrangment\n",
    "ordinal_hour = {'start_time_hour': [str(i) for i in range(0,24)]}\n",
    "for hour in ordinal_hour:\n",
    "    ordered_hour = pd.api.types.CategoricalDtype(ordered = True,\n",
    "                                                categories = ordinal_hour[hour])\n",
    "    bike[hour] = bike[hour].astype(ordered_hour)"
   ]
  },
  {
   "cell_type": "code",
   "execution_count": 8,
   "metadata": {
    "slideshow": {
     "slide_type": "subslide"
    }
   },
   "outputs": [
    {
     "data": {
      "image/png": "[encoded data removed]",
      "text/plain": [
       "<Figure size 576x576 with 1 Axes>"
      ]
     },
     "metadata": {
      "needs_background": "light"
     },
     "output_type": "display_data"
    }
   ],
   "source": [
    "#Busiest hour of the day by start_time\n",
    "bike_hour = bike['start_time_hour'].value_counts().sort_index()\n",
    "plot_bar(bike_hour, 'Hour','Total bikes','Bike usage by time of the day');"
   ]
  },
  {
   "cell_type": "markdown",
   "metadata": {
    "slideshow": {
     "slide_type": "slide"
    }
   },
   "source": [
    "## 3. Duration(min) taken by users at different times\n",
    "\n",
    "> Longer bike trips were experienced at 3 am in the morning followed by 2 am. The least trip duration time was at 6 am for both customers and subscribers."
   ]
  },
  {
   "cell_type": "code",
   "execution_count": 9,
   "metadata": {
    "slideshow": {
     "slide_type": "subslide"
    }
   },
   "outputs": [
    {
     "data": {
      "image/png": "[encoded data removed]",
      "text/plain": [
       "<Figure size 720x432 with 1 Axes>"
      ]
     },
     "metadata": {
      "needs_background": "light"
     },
     "output_type": "display_data"
    }
   ],
   "source": [
    "plt.figure(figsize=[10,6])\n",
    "sb.barplot(data = bike, x = 'start_time_hour', y = 'duration_min', hue = 'user_type')\n",
    "plt.legend(loc = 1, title = 'user_type')\n",
    "plt.yscale('log')\n",
    "plt.title('Duration(min) taken by users at different times');"
   ]
  },
  {
   "cell_type": "markdown",
   "metadata": {
    "slideshow": {
     "slide_type": "notes"
    }
   },
   "source": [
    ">**Generate Slideshow**: Once you're ready to generate your slideshow, use the `jupyter nbconvert` command to generate the HTML slide show. . From the terminal or command line, use the following expression."
   ]
  },
  {
   "cell_type": "code",
   "execution_count": null,
   "metadata": {
    "slideshow": {
     "slide_type": "skip"
    }
   },
   "outputs": [],
   "source": [
    "!jupyter nbconvert Part_II_slide_deck_template.ipynb --to slides --post serve --no-input --no-prompt"
   ]
  }
 ],
 "metadata": {
  "celltoolbar": "Slideshow",
  "kernelspec": {
   "display_name": "Python 3 (ipykernel)",
   "language": "python",
   "name": "python3"
  },
  "language_info": {
   "codemirror_mode": {
    "name": "ipython",
    "version": 3
   },
   "file_extension": ".py",
   "mimetype": "text/x-python",
   "name": "python",
   "nbconvert_exporter": "python",
   "pygments_lexer": "ipython3",
   "version": "3.9.12"
  }
 },
 "nbformat": 4,
 "nbformat_minor": 2
}
